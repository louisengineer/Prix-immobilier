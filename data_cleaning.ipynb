{
 "cells": [
  {
   "cell_type": "code",
   "execution_count": 1,
   "metadata": {},
   "outputs": [],
   "source": [
    "import pandas as pd \n",
    "\n",
    "DVF = pd.read_csv('dvf0.csv')"
   ]
  },
  {
   "cell_type": "code",
   "execution_count": 3,
   "metadata": {},
   "outputs": [],
   "source": [
    "prix_m2_commune = DVF.groupby(['nom_commune', 'annee', 'type'])['prixm2'].mean().reset_index()\n",
    "prix_m2_commune.to_csv(\"dvf.csv\", index=False)"
   ]
  },
  {
   "cell_type": "code",
   "execution_count": 13,
   "metadata": {},
   "outputs": [
    {
     "data": {
      "text/html": [
       "<div>\n",
       "<style scoped>\n",
       "    .dataframe tbody tr th:only-of-type {\n",
       "        vertical-align: middle;\n",
       "    }\n",
       "\n",
       "    .dataframe tbody tr th {\n",
       "        vertical-align: top;\n",
       "    }\n",
       "\n",
       "    .dataframe thead th {\n",
       "        text-align: right;\n",
       "    }\n",
       "</style>\n",
       "<table border=\"1\" class=\"dataframe\">\n",
       "  <thead>\n",
       "    <tr style=\"text-align: right;\">\n",
       "      <th></th>\n",
       "      <th>nom_commune</th>\n",
       "      <th>annee</th>\n",
       "      <th>type</th>\n",
       "      <th>prixm2</th>\n",
       "    </tr>\n",
       "  </thead>\n",
       "  <tbody>\n",
       "    <tr>\n",
       "      <th>0</th>\n",
       "      <td>Aast</td>\n",
       "      <td>2019</td>\n",
       "      <td>Maison</td>\n",
       "      <td>95.000000</td>\n",
       "    </tr>\n",
       "    <tr>\n",
       "      <th>1</th>\n",
       "      <td>Aast</td>\n",
       "      <td>2020</td>\n",
       "      <td>Maison</td>\n",
       "      <td>1235.000000</td>\n",
       "    </tr>\n",
       "    <tr>\n",
       "      <th>2</th>\n",
       "      <td>Aast</td>\n",
       "      <td>2021</td>\n",
       "      <td>Maison</td>\n",
       "      <td>1699.000000</td>\n",
       "    </tr>\n",
       "    <tr>\n",
       "      <th>3</th>\n",
       "      <td>Aast</td>\n",
       "      <td>2022</td>\n",
       "      <td>Maison</td>\n",
       "      <td>2267.750000</td>\n",
       "    </tr>\n",
       "    <tr>\n",
       "      <th>4</th>\n",
       "      <td>Aast</td>\n",
       "      <td>2023</td>\n",
       "      <td>Maison</td>\n",
       "      <td>1328.333333</td>\n",
       "    </tr>\n",
       "    <tr>\n",
       "      <th>...</th>\n",
       "      <td>...</td>\n",
       "      <td>...</td>\n",
       "      <td>...</td>\n",
       "      <td>...</td>\n",
       "    </tr>\n",
       "    <tr>\n",
       "      <th>182959</th>\n",
       "      <td>Œuilly</td>\n",
       "      <td>2019</td>\n",
       "      <td>Maison</td>\n",
       "      <td>1343.500000</td>\n",
       "    </tr>\n",
       "    <tr>\n",
       "      <th>182960</th>\n",
       "      <td>Œuilly</td>\n",
       "      <td>2020</td>\n",
       "      <td>Maison</td>\n",
       "      <td>1700.750000</td>\n",
       "    </tr>\n",
       "    <tr>\n",
       "      <th>182961</th>\n",
       "      <td>Œuilly</td>\n",
       "      <td>2021</td>\n",
       "      <td>Maison</td>\n",
       "      <td>1826.625000</td>\n",
       "    </tr>\n",
       "    <tr>\n",
       "      <th>182962</th>\n",
       "      <td>Œuilly</td>\n",
       "      <td>2022</td>\n",
       "      <td>Maison</td>\n",
       "      <td>1739.400000</td>\n",
       "    </tr>\n",
       "    <tr>\n",
       "      <th>182963</th>\n",
       "      <td>Œuilly</td>\n",
       "      <td>2023</td>\n",
       "      <td>Maison</td>\n",
       "      <td>1532.000000</td>\n",
       "    </tr>\n",
       "  </tbody>\n",
       "</table>\n",
       "<p>182964 rows × 4 columns</p>\n",
       "</div>"
      ],
      "text/plain": [
       "       nom_commune  annee    type       prixm2\n",
       "0             Aast   2019  Maison    95.000000\n",
       "1             Aast   2020  Maison  1235.000000\n",
       "2             Aast   2021  Maison  1699.000000\n",
       "3             Aast   2022  Maison  2267.750000\n",
       "4             Aast   2023  Maison  1328.333333\n",
       "...            ...    ...     ...          ...\n",
       "182959      Œuilly   2019  Maison  1343.500000\n",
       "182960      Œuilly   2020  Maison  1700.750000\n",
       "182961      Œuilly   2021  Maison  1826.625000\n",
       "182962      Œuilly   2022  Maison  1739.400000\n",
       "182963      Œuilly   2023  Maison  1532.000000\n",
       "\n",
       "[182964 rows x 4 columns]"
      ]
     },
     "execution_count": 13,
     "metadata": {},
     "output_type": "execute_result"
    }
   ],
   "source": [
    "prix_m2_commune"
   ]
  },
  {
   "cell_type": "code",
   "execution_count": 1,
   "metadata": {},
   "outputs": [],
   "source": [
    "# importing pandas \n",
    "import pandas as pd \n",
    "  \n",
    "# merging two csv files \n",
    "df = pd.concat( \n",
    "    map(pd.read_csv, ['dvf.csv', 'dvf1.csv','dvf2.csv', 'dvf3.csv','dvf4.csv']), ignore_index=True) \n"
   ]
  },
  {
   "cell_type": "code",
   "execution_count": 3,
   "metadata": {},
   "outputs": [],
   "source": [
    "df.to_csv('dvf0.csv', index=False)"
   ]
  },
  {
   "cell_type": "code",
   "execution_count": 5,
   "metadata": {},
   "outputs": [
    {
     "ename": "",
     "evalue": "",
     "output_type": "error",
     "traceback": [
      "\u001b[1;31mThe Kernel crashed while executing code in the current cell or a previous cell. \n",
      "\u001b[1;31mPlease review the code in the cell(s) to identify a possible cause of the failure. \n",
      "\u001b[1;31mClick <a href='https://aka.ms/vscodeJupyterKernelCrash'>here</a> for more info. \n",
      "\u001b[1;31mView Jupyter <a href='command:jupyter.viewOutput'>log</a> for further details."
     ]
    }
   ],
   "source": [
    "import pandas as pd\n",
    "import numpy as np\n",
    "\n",
    "DVF = pd.read_csv('2019.csv')"
   ]
  },
  {
   "cell_type": "code",
   "execution_count": 2,
   "metadata": {},
   "outputs": [
    {
     "name": "stderr",
     "output_type": "stream",
     "text": [
      "C:\\Users\\louis\\AppData\\Local\\Temp\\ipykernel_5376\\2229743955.py:13: SettingWithCopyWarning: \n",
      "A value is trying to be set on a copy of a slice from a DataFrame\n",
      "\n",
      "See the caveats in the documentation: https://pandas.pydata.org/pandas-docs/stable/user_guide/indexing.html#returning-a-view-versus-a-copy\n",
      "  etape2.replace(\"\", np.nan, inplace=True)\n",
      "C:\\Users\\louis\\AppData\\Local\\Temp\\ipykernel_5376\\2229743955.py:37: SettingWithCopyWarning: \n",
      "A value is trying to be set on a copy of a slice from a DataFrame.\n",
      "Try using .loc[row_indexer,col_indexer] = value instead\n",
      "\n",
      "See the caveats in the documentation: https://pandas.pydata.org/pandas-docs/stable/user_guide/indexing.html#returning-a-view-versus-a-copy\n",
      "  etape6['prixm2'] = (etape6['prix'] / etape6['surface']).round()\n",
      "C:\\Users\\louis\\AppData\\Local\\Temp\\ipykernel_5376\\2229743955.py:40: SettingWithCopyWarning: \n",
      "A value is trying to be set on a copy of a slice from a DataFrame.\n",
      "Try using .loc[row_indexer,col_indexer] = value instead\n",
      "\n",
      "See the caveats in the documentation: https://pandas.pydata.org/pandas-docs/stable/user_guide/indexing.html#returning-a-view-versus-a-copy\n",
      "  etape6['annee'] = etape6['date'].astype(str).str[:4]\n"
     ]
    }
   ],
   "source": [
    "# Étape 1 : Filtrer uniquement les ventes de maisons et d'appartements\n",
    "etape1 = DVF[DVF['nature_mutation'] == 'Vente']\n",
    "etape1bis = etape1[(etape1['type_local'] == 'Maison') | (etape1['type_local'] == 'Appartement')]\n",
    "\n",
    "# Étape 2 : Sélection et renommage des colonnes importantes\n",
    "etape2 = etape1bis[['id_mutation', 'numero_disposition', 'id_parcelle', 'date_mutation', 'nature_mutation',\n",
    "    'nom_commune', 'code_departement', 'type_local', 'surface_reelle_bati', \n",
    "    'nombre_pieces_principales', 'valeur_fonciere', 'latitude', 'longitude']]\n",
    "etape2.columns = ['id', 'disposition', 'parcelle', 'date', 'nature', 'nom_commune', 'departement', \n",
    "    'type', 'surface', 'piece', 'prix', 'latitude', 'longitude']\n",
    "\n",
    "# Étape 3 : Nettoyage des données\n",
    "etape2.replace(\"\", np.nan, inplace=True)\n",
    "etape3 = etape2.dropna()\n",
    "\n",
    "# Étape 4 : Supprimer les mutations multiventes (transactions complexes)\n",
    "unique = etape3.drop_duplicates(subset=['id', 'prix', 'surface'])\n",
    "nbunique = unique.groupby('id').size().reset_index(name='nb')\n",
    "etape4 = nbunique[nbunique['nb'] == 1]\n",
    "\n",
    "# Étape 5 : Jointure avec les informations complètes\n",
    "merge = pd.merge(etape4, etape3, on=\"id\")\n",
    "etape5 = merge.drop_duplicates(subset=\"id\").filter(\n",
    "items=['id', 'date', 'type', 'nature', 'nom_commune', 'prix', 'surface', 'piece'])\n",
    "\n",
    "# Conversion des types de données\n",
    "etape5['prix'] = etape5['prix'].astype(int)\n",
    "etape5['surface'] = etape5['surface'].astype(float)\n",
    "etape5['piece'] = etape5['piece'].astype(float)\n",
    "\n",
    "# Supprimer les valeurs aberrantes\n",
    "etape6 = etape5[(etape5['prix'].between(15000, 5000000)) & \n",
    "((etape5['type'] == 'Appartement') & etape5['surface'].between(10, 250)) |\n",
    "((etape5['type'] == 'Maison') & etape5['surface'].between(10, 500))]\n",
    "\n",
    "# Création de la variable prix/m²\n",
    "etape6['prixm2'] = (etape6['prix'] / etape6['surface']).round()\n",
    "\n",
    "# Transformation de la date en année\n",
    "etape6['annee'] = etape6['date'].astype(str).str[:4]"
   ]
  },
  {
   "cell_type": "code",
   "execution_count": 3,
   "metadata": {},
   "outputs": [
    {
     "data": {
      "text/plain": [
       "nom_commune\n",
       "Toulouse               9058\n",
       "Nice                   8423\n",
       "Nantes                 6216\n",
       "Montpellier            5312\n",
       "Bordeaux               4839\n",
       "                       ... \n",
       "Carcanières               1\n",
       "Prats-de-Sournia          1\n",
       "Mantet                    1\n",
       "Vaudherland               1\n",
       "Épinay-Champlâtreux       1\n",
       "Name: count, Length: 28795, dtype: int64"
      ]
     },
     "execution_count": 3,
     "metadata": {},
     "output_type": "execute_result"
    }
   ],
   "source": [
    "etape6['nom_commune'].value_counts()"
   ]
  },
  {
   "cell_type": "code",
   "execution_count": 4,
   "metadata": {},
   "outputs": [],
   "source": [
    "etape6.to_csv('dvf4.csv', index=False)"
   ]
  }
 ],
 "metadata": {
  "kernelspec": {
   "display_name": "base",
   "language": "python",
   "name": "python3"
  },
  "language_info": {
   "codemirror_mode": {
    "name": "ipython",
    "version": 3
   },
   "file_extension": ".py",
   "mimetype": "text/x-python",
   "name": "python",
   "nbconvert_exporter": "python",
   "pygments_lexer": "ipython3",
   "version": "3.11.5"
  }
 },
 "nbformat": 4,
 "nbformat_minor": 2
}
